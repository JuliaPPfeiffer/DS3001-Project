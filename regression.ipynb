{
 "cells": [
  {
   "cell_type": "code",
   "execution_count": 1,
   "metadata": {},
   "outputs": [
    {
     "name": "stderr",
     "output_type": "stream",
     "text": [
      "C:\\Users\\l3n3c\\AppData\\Local\\Temp\\ipykernel_28428\\4080736814.py:1: DeprecationWarning: \n",
      "Pyarrow will become a required dependency of pandas in the next major release of pandas (pandas 3.0),\n",
      "(to allow more performant data types, such as the Arrow string type, and better interoperability with other libraries)\n",
      "but was not found to be installed on your system.\n",
      "If this would cause problems for you,\n",
      "please provide us feedback at https://github.com/pandas-dev/pandas/issues/54466\n",
      "        \n",
      "  import pandas as pd\n"
     ]
    }
   ],
   "source": [
    "import pandas as pd"
   ]
  },
  {
   "cell_type": "code",
   "execution_count": null,
   "metadata": {},
   "outputs": [
    {
     "data": {
      "text/plain": [
       "Index(['Area', 'Year', 'Savanna fires', 'Forest fires', 'Crop Residues',\n",
       "       'Rice Cultivation', 'Drained organic soils (CO2)',\n",
       "       'Pesticides Manufacturing', 'Food Transport', 'Forestland',\n",
       "       'Net Forest conversion', 'Food Household Consumption', 'Food Retail',\n",
       "       'On-farm Electricity Use', 'Food Packaging',\n",
       "       'Agrifood Systems Waste Disposal', 'Food Processing',\n",
       "       'Fertilizers Manufacturing', 'IPPU', 'Manure applied to Soils',\n",
       "       'Manure left on Pasture', 'Manure Management', 'Fires in organic soils',\n",
       "       'Fires in humid tropical forests', 'On-farm energy use',\n",
       "       'Rural population', 'Urban population', 'Total Population - Male',\n",
       "       'Total Population - Female', 'total_emission', 'Average Temperature °C',\n",
       "       'Code', 'gdp'],\n",
       "      dtype='object')"
      ]
     },
     "execution_count": 7,
     "metadata": {},
     "output_type": "execute_result"
    }
   ],
   "source": [
    "agri_gdp_data = pd.read_csv('./agri_gdp_data.csv')\n",
    "agri_gdp_data = agri_gdp_data.drop(columns='Unnamed: 0')\n"
   ]
  },
  {
   "cell_type": "markdown",
   "metadata": {},
   "source": [
    "Train test split"
   ]
  },
  {
   "cell_type": "code",
   "execution_count": 8,
   "metadata": {},
   "outputs": [],
   "source": [
    "# imports\n",
    "from sklearn.model_selection import train_test_split\n",
    "from sklearn.impute import SimpleImputer\n",
    "from sklearn.preprocessing import StandardScaler\n",
    "from sklearn.pipeline import Pipeline\n",
    "from sklearn.preprocessing import OneHotEncoder\n",
    "from sklearn.compose import ColumnTransformer"
   ]
  },
  {
   "cell_type": "code",
   "execution_count": 12,
   "metadata": {},
   "outputs": [
    {
     "data": {
      "text/plain": [
       "Index(['Area', 'Year', 'Savanna fires', 'Forest fires', 'Crop Residues',\n",
       "       'Rice Cultivation', 'Drained organic soils (CO2)',\n",
       "       'Pesticides Manufacturing', 'Food Transport', 'Forestland',\n",
       "       'Net Forest conversion', 'Food Household Consumption', 'Food Retail',\n",
       "       'On-farm Electricity Use', 'Food Packaging',\n",
       "       'Agrifood Systems Waste Disposal', 'Food Processing',\n",
       "       'Fertilizers Manufacturing', 'IPPU', 'Manure applied to Soils',\n",
       "       'Manure left on Pasture', 'Manure Management', 'Fires in organic soils',\n",
       "       'Fires in humid tropical forests', 'On-farm energy use',\n",
       "       'Rural population', 'Urban population', 'Total Population - Male',\n",
       "       'Total Population - Female', 'total_emission', 'Average Temperature °C',\n",
       "       'Code', 'gdp'],\n",
       "      dtype='object')"
      ]
     },
     "execution_count": 12,
     "metadata": {},
     "output_type": "execute_result"
    }
   ],
   "source": [
    "agri_gdp_data.columns"
   ]
  },
  {
   "cell_type": "code",
   "execution_count": 13,
   "metadata": {},
   "outputs": [],
   "source": [
    "agri_gdp_tr = agri_gdp_data.copy()\n",
    "agri_gdp_tr.head()\n",
    "agri_gdp_data = agri_gdp_tr.drop(\"total_emission\", axis=1)\n",
    "agri_gdp_labels = agri_gdp_tr[\"total_emission\"].copy()\n",
    "\n",
    "X_train, X_test, y_train, y_test = train_test_split(agri_gdp_data, agri_gdp_labels, test_size=0.2)"
   ]
  },
  {
   "cell_type": "markdown",
   "metadata": {},
   "source": [
    "pipeline"
   ]
  },
  {
   "cell_type": "code",
   "execution_count": 15,
   "metadata": {},
   "outputs": [],
   "source": [
    "imputer = SimpleImputer(strategy=\"most_frequent\")\n",
    "std_scaler = StandardScaler()\n",
    "\n",
    "num_pipeline = Pipeline([\n",
    "    (\"imputer\", imputer),\n",
    "    (\"std_scaler\", std_scaler)\n",
    "])\n",
    "num_col = agri_gdp_data.select_dtypes(['number']).columns\n",
    "\n",
    "# converting categorical data\n",
    "cat_encoder = OneHotEncoder(handle_unknown=\"ignore\")\n",
    "cat_col = agri_gdp_data.select_dtypes(['object']).columns\n",
    "\n",
    "# full pipeline\n",
    "full_pipeline = ColumnTransformer([\n",
    "    (\"num\", num_pipeline, num_col),\n",
    "    (\"cat\", cat_encoder, cat_col)\n",
    "])"
   ]
  },
  {
   "cell_type": "code",
   "execution_count": null,
   "metadata": {},
   "outputs": [],
   "source": [
    "training_prepared = full_pipeline.fit_transform(X_train)\n",
    "test_prepared = full_pipeline.fit(X_test) # do we put this through the pipeline i forget"
   ]
  },
  {
   "cell_type": "markdown",
   "metadata": {},
   "source": [
    "regression & error"
   ]
  },
  {
   "cell_type": "code",
   "execution_count": 20,
   "metadata": {},
   "outputs": [],
   "source": [
    "import numpy as np\n",
    "from sklearn.metrics import mean_squared_error\n",
    "\n",
    "def calculate_mse_rmse(predictions, labels):\n",
    "    mse = mean_squared_error(labels, predictions)\n",
    "    rmse = np.sqrt(mse)\n",
    "    return mse, rmse"
   ]
  },
  {
   "cell_type": "code",
   "execution_count": 25,
   "metadata": {},
   "outputs": [
    {
     "name": "stdout",
     "output_type": "stream",
     "text": [
      "training mse:  19.440951826662193\n",
      "training rmse:  4.409189475023974\n"
     ]
    },
    {
     "ename": "ValueError",
     "evalue": "Expected 2D array, got scalar array instead:\narray=ColumnTransformer(transformers=[('num',\n                                 Pipeline(steps=[('imputer',\n                                                  SimpleImputer(strategy='most_frequent')),\n                                                 ('std_scaler',\n                                                  StandardScaler())]),\n                                 Index(['Year', 'Savanna fires', 'Forest fires', 'Crop Residues',\n       'Rice Cultivation', 'Drained organic soils (CO2)',\n       'Pesticides Manufacturing', 'Food Transport', 'Forestland',\n       'Net Forest conversion', 'Food Household Consumption', 'F...\n       'Fertilizers Manufacturing', 'IPPU', 'Manure applied to Soils',\n       'Manure left on Pasture', 'Manure Management', 'Fires in organic soils',\n       'Fires in humid tropical forests', 'On-farm energy use',\n       'Rural population', 'Urban population', 'Total Population - Male',\n       'Total Population - Female', 'Average Temperature °C', 'gdp'],\n      dtype='object')),\n                                ('cat', OneHotEncoder(handle_unknown='ignore'),\n                                 Index(['Area', 'Code'], dtype='object'))]).\nReshape your data either using array.reshape(-1, 1) if your data has a single feature or array.reshape(1, -1) if it contains a single sample.",
     "output_type": "error",
     "traceback": [
      "\u001b[1;31m---------------------------------------------------------------------------\u001b[0m",
      "\u001b[1;31mValueError\u001b[0m                                Traceback (most recent call last)",
      "Cell \u001b[1;32mIn[25], line 14\u001b[0m\n\u001b[0;32m     11\u001b[0m \u001b[38;5;28mprint\u001b[39m(\u001b[38;5;124m\"\u001b[39m\u001b[38;5;124mtraining mse: \u001b[39m\u001b[38;5;124m\"\u001b[39m, lin_mse)\n\u001b[0;32m     12\u001b[0m \u001b[38;5;28mprint\u001b[39m(\u001b[38;5;124m\"\u001b[39m\u001b[38;5;124mtraining rmse: \u001b[39m\u001b[38;5;124m\"\u001b[39m, lin_rmse)\n\u001b[1;32m---> 14\u001b[0m lin_test_pred \u001b[38;5;241m=\u001b[39m \u001b[43mlin_reg\u001b[49m\u001b[38;5;241;43m.\u001b[39;49m\u001b[43mpredict\u001b[49m\u001b[43m(\u001b[49m\u001b[43mtest_prepared\u001b[49m\u001b[43m)\u001b[49m\n\u001b[0;32m     16\u001b[0m lin_mse, lin_rmse \u001b[38;5;241m=\u001b[39m calculate_mse_rmse(lin_test_pred, y_test)\n\u001b[0;32m     17\u001b[0m \u001b[38;5;28mprint\u001b[39m(\u001b[38;5;124m\"\u001b[39m\u001b[38;5;124mtest mse: \u001b[39m\u001b[38;5;124m\"\u001b[39m, lin_mse)\n",
      "File \u001b[1;32mc:\\Users\\l3n3c\\AppData\\Local\\Programs\\Python\\Python310\\lib\\site-packages\\sklearn\\linear_model\\_base.py:306\u001b[0m, in \u001b[0;36mLinearModel.predict\u001b[1;34m(self, X)\u001b[0m\n\u001b[0;32m    292\u001b[0m \u001b[38;5;28;01mdef\u001b[39;00m \u001b[38;5;21mpredict\u001b[39m(\u001b[38;5;28mself\u001b[39m, X):\n\u001b[0;32m    293\u001b[0m \u001b[38;5;250m    \u001b[39m\u001b[38;5;124;03m\"\"\"\u001b[39;00m\n\u001b[0;32m    294\u001b[0m \u001b[38;5;124;03m    Predict using the linear model.\u001b[39;00m\n\u001b[0;32m    295\u001b[0m \n\u001b[1;32m   (...)\u001b[0m\n\u001b[0;32m    304\u001b[0m \u001b[38;5;124;03m        Returns predicted values.\u001b[39;00m\n\u001b[0;32m    305\u001b[0m \u001b[38;5;124;03m    \"\"\"\u001b[39;00m\n\u001b[1;32m--> 306\u001b[0m     \u001b[38;5;28;01mreturn\u001b[39;00m \u001b[38;5;28;43mself\u001b[39;49m\u001b[38;5;241;43m.\u001b[39;49m\u001b[43m_decision_function\u001b[49m\u001b[43m(\u001b[49m\u001b[43mX\u001b[49m\u001b[43m)\u001b[49m\n",
      "File \u001b[1;32mc:\\Users\\l3n3c\\AppData\\Local\\Programs\\Python\\Python310\\lib\\site-packages\\sklearn\\linear_model\\_base.py:285\u001b[0m, in \u001b[0;36mLinearModel._decision_function\u001b[1;34m(self, X)\u001b[0m\n\u001b[0;32m    282\u001b[0m \u001b[38;5;28;01mdef\u001b[39;00m \u001b[38;5;21m_decision_function\u001b[39m(\u001b[38;5;28mself\u001b[39m, X):\n\u001b[0;32m    283\u001b[0m     check_is_fitted(\u001b[38;5;28mself\u001b[39m)\n\u001b[1;32m--> 285\u001b[0m     X \u001b[38;5;241m=\u001b[39m \u001b[38;5;28;43mself\u001b[39;49m\u001b[38;5;241;43m.\u001b[39;49m\u001b[43m_validate_data\u001b[49m\u001b[43m(\u001b[49m\u001b[43mX\u001b[49m\u001b[43m,\u001b[49m\u001b[43m \u001b[49m\u001b[43maccept_sparse\u001b[49m\u001b[38;5;241;43m=\u001b[39;49m\u001b[43m[\u001b[49m\u001b[38;5;124;43m\"\u001b[39;49m\u001b[38;5;124;43mcsr\u001b[39;49m\u001b[38;5;124;43m\"\u001b[39;49m\u001b[43m,\u001b[49m\u001b[43m \u001b[49m\u001b[38;5;124;43m\"\u001b[39;49m\u001b[38;5;124;43mcsc\u001b[39;49m\u001b[38;5;124;43m\"\u001b[39;49m\u001b[43m,\u001b[49m\u001b[43m \u001b[49m\u001b[38;5;124;43m\"\u001b[39;49m\u001b[38;5;124;43mcoo\u001b[39;49m\u001b[38;5;124;43m\"\u001b[39;49m\u001b[43m]\u001b[49m\u001b[43m,\u001b[49m\u001b[43m \u001b[49m\u001b[43mreset\u001b[49m\u001b[38;5;241;43m=\u001b[39;49m\u001b[38;5;28;43;01mFalse\u001b[39;49;00m\u001b[43m)\u001b[49m\n\u001b[0;32m    286\u001b[0m     coef_ \u001b[38;5;241m=\u001b[39m \u001b[38;5;28mself\u001b[39m\u001b[38;5;241m.\u001b[39mcoef_\n\u001b[0;32m    287\u001b[0m     \u001b[38;5;28;01mif\u001b[39;00m coef_\u001b[38;5;241m.\u001b[39mndim \u001b[38;5;241m==\u001b[39m \u001b[38;5;241m1\u001b[39m:\n",
      "File \u001b[1;32mc:\\Users\\l3n3c\\AppData\\Local\\Programs\\Python\\Python310\\lib\\site-packages\\sklearn\\base.py:633\u001b[0m, in \u001b[0;36mBaseEstimator._validate_data\u001b[1;34m(self, X, y, reset, validate_separately, cast_to_ndarray, **check_params)\u001b[0m\n\u001b[0;32m    631\u001b[0m         out \u001b[38;5;241m=\u001b[39m X, y\n\u001b[0;32m    632\u001b[0m \u001b[38;5;28;01melif\u001b[39;00m \u001b[38;5;129;01mnot\u001b[39;00m no_val_X \u001b[38;5;129;01mand\u001b[39;00m no_val_y:\n\u001b[1;32m--> 633\u001b[0m     out \u001b[38;5;241m=\u001b[39m check_array(X, input_name\u001b[38;5;241m=\u001b[39m\u001b[38;5;124m\"\u001b[39m\u001b[38;5;124mX\u001b[39m\u001b[38;5;124m\"\u001b[39m, \u001b[38;5;241m*\u001b[39m\u001b[38;5;241m*\u001b[39mcheck_params)\n\u001b[0;32m    634\u001b[0m \u001b[38;5;28;01melif\u001b[39;00m no_val_X \u001b[38;5;129;01mand\u001b[39;00m \u001b[38;5;129;01mnot\u001b[39;00m no_val_y:\n\u001b[0;32m    635\u001b[0m     out \u001b[38;5;241m=\u001b[39m _check_y(y, \u001b[38;5;241m*\u001b[39m\u001b[38;5;241m*\u001b[39mcheck_params)\n",
      "File \u001b[1;32mc:\\Users\\l3n3c\\AppData\\Local\\Programs\\Python\\Python310\\lib\\site-packages\\sklearn\\utils\\validation.py:1027\u001b[0m, in \u001b[0;36mcheck_array\u001b[1;34m(array, accept_sparse, accept_large_sparse, dtype, order, copy, force_writeable, force_all_finite, ensure_2d, allow_nd, ensure_min_samples, ensure_min_features, estimator, input_name)\u001b[0m\n\u001b[0;32m   1024\u001b[0m \u001b[38;5;28;01mif\u001b[39;00m ensure_2d:\n\u001b[0;32m   1025\u001b[0m     \u001b[38;5;66;03m# If input is scalar raise error\u001b[39;00m\n\u001b[0;32m   1026\u001b[0m     \u001b[38;5;28;01mif\u001b[39;00m array\u001b[38;5;241m.\u001b[39mndim \u001b[38;5;241m==\u001b[39m \u001b[38;5;241m0\u001b[39m:\n\u001b[1;32m-> 1027\u001b[0m         \u001b[38;5;28;01mraise\u001b[39;00m \u001b[38;5;167;01mValueError\u001b[39;00m(\n\u001b[0;32m   1028\u001b[0m             \u001b[38;5;124m\"\u001b[39m\u001b[38;5;124mExpected 2D array, got scalar array instead:\u001b[39m\u001b[38;5;130;01m\\n\u001b[39;00m\u001b[38;5;124marray=\u001b[39m\u001b[38;5;132;01m{}\u001b[39;00m\u001b[38;5;124m.\u001b[39m\u001b[38;5;130;01m\\n\u001b[39;00m\u001b[38;5;124m\"\u001b[39m\n\u001b[0;32m   1029\u001b[0m             \u001b[38;5;124m\"\u001b[39m\u001b[38;5;124mReshape your data either using array.reshape(-1, 1) if \u001b[39m\u001b[38;5;124m\"\u001b[39m\n\u001b[0;32m   1030\u001b[0m             \u001b[38;5;124m\"\u001b[39m\u001b[38;5;124myour data has a single feature or array.reshape(1, -1) \u001b[39m\u001b[38;5;124m\"\u001b[39m\n\u001b[0;32m   1031\u001b[0m             \u001b[38;5;124m\"\u001b[39m\u001b[38;5;124mif it contains a single sample.\u001b[39m\u001b[38;5;124m\"\u001b[39m\u001b[38;5;241m.\u001b[39mformat(array)\n\u001b[0;32m   1032\u001b[0m         )\n\u001b[0;32m   1033\u001b[0m     \u001b[38;5;66;03m# If input is 1D raise error\u001b[39;00m\n\u001b[0;32m   1034\u001b[0m     \u001b[38;5;28;01mif\u001b[39;00m array\u001b[38;5;241m.\u001b[39mndim \u001b[38;5;241m==\u001b[39m \u001b[38;5;241m1\u001b[39m:\n\u001b[0;32m   1035\u001b[0m         \u001b[38;5;66;03m# If input is a Series-like object (eg. pandas Series or polars Series)\u001b[39;00m\n",
      "\u001b[1;31mValueError\u001b[0m: Expected 2D array, got scalar array instead:\narray=ColumnTransformer(transformers=[('num',\n                                 Pipeline(steps=[('imputer',\n                                                  SimpleImputer(strategy='most_frequent')),\n                                                 ('std_scaler',\n                                                  StandardScaler())]),\n                                 Index(['Year', 'Savanna fires', 'Forest fires', 'Crop Residues',\n       'Rice Cultivation', 'Drained organic soils (CO2)',\n       'Pesticides Manufacturing', 'Food Transport', 'Forestland',\n       'Net Forest conversion', 'Food Household Consumption', 'F...\n       'Fertilizers Manufacturing', 'IPPU', 'Manure applied to Soils',\n       'Manure left on Pasture', 'Manure Management', 'Fires in organic soils',\n       'Fires in humid tropical forests', 'On-farm energy use',\n       'Rural population', 'Urban population', 'Total Population - Male',\n       'Total Population - Female', 'Average Temperature °C', 'gdp'],\n      dtype='object')),\n                                ('cat', OneHotEncoder(handle_unknown='ignore'),\n                                 Index(['Area', 'Code'], dtype='object'))]).\nReshape your data either using array.reshape(-1, 1) if your data has a single feature or array.reshape(1, -1) if it contains a single sample."
     ]
    }
   ],
   "source": [
    "# Linear Regression\n",
    "\n",
    "from sklearn.linear_model import LinearRegression\n",
    "\n",
    "lin_reg = LinearRegression()\n",
    "lin_reg.fit(training_prepared, y_train)\n",
    "\n",
    "lin_pred = lin_reg.predict(training_prepared)\n",
    "\n",
    "lin_mse, lin_rmse = calculate_mse_rmse(lin_pred, y_train)\n",
    "print(\"training mse: \", lin_mse)\n",
    "print(\"training rmse: \", lin_rmse)\n",
    "\n",
    "lin_test_pred = lin_reg.predict(test_prepared)\n",
    "\n",
    "lin_mse, lin_rmse = calculate_mse_rmse(lin_test_pred, y_test)\n",
    "print(\"test mse: \", lin_mse)\n",
    "print(\"test rmse: \", lin_rmse)"
   ]
  },
  {
   "cell_type": "markdown",
   "metadata": {},
   "source": [
    "tuning hyperparameters?"
   ]
  },
  {
   "cell_type": "markdown",
   "metadata": {},
   "source": [
    "evaluation & plots"
   ]
  }
 ],
 "metadata": {
  "kernelspec": {
   "display_name": "Python 3",
   "language": "python",
   "name": "python3"
  },
  "language_info": {
   "codemirror_mode": {
    "name": "ipython",
    "version": 3
   },
   "file_extension": ".py",
   "mimetype": "text/x-python",
   "name": "python",
   "nbconvert_exporter": "python",
   "pygments_lexer": "ipython3",
   "version": "3.10.6"
  }
 },
 "nbformat": 4,
 "nbformat_minor": 2
}
