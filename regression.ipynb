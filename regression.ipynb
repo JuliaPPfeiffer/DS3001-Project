{
 "cells": [
  {
   "cell_type": "code",
   "execution_count": 1,
   "metadata": {},
   "outputs": [
    {
     "name": "stderr",
     "output_type": "stream",
     "text": [
      "C:\\Users\\l3n3c\\AppData\\Local\\Temp\\ipykernel_28428\\4080736814.py:1: DeprecationWarning: \n",
      "Pyarrow will become a required dependency of pandas in the next major release of pandas (pandas 3.0),\n",
      "(to allow more performant data types, such as the Arrow string type, and better interoperability with other libraries)\n",
      "but was not found to be installed on your system.\n",
      "If this would cause problems for you,\n",
      "please provide us feedback at https://github.com/pandas-dev/pandas/issues/54466\n",
      "        \n",
      "  import pandas as pd\n"
     ]
    }
   ],
   "source": [
    "import pandas as pd"
   ]
  },
  {
   "cell_type": "code",
   "execution_count": null,
   "metadata": {},
   "outputs": [
    {
     "data": {
      "text/plain": [
       "Index(['Area', 'Year', 'Savanna fires', 'Forest fires', 'Crop Residues',\n",
       "       'Rice Cultivation', 'Drained organic soils (CO2)',\n",
       "       'Pesticides Manufacturing', 'Food Transport', 'Forestland',\n",
       "       'Net Forest conversion', 'Food Household Consumption', 'Food Retail',\n",
       "       'On-farm Electricity Use', 'Food Packaging',\n",
       "       'Agrifood Systems Waste Disposal', 'Food Processing',\n",
       "       'Fertilizers Manufacturing', 'IPPU', 'Manure applied to Soils',\n",
       "       'Manure left on Pasture', 'Manure Management', 'Fires in organic soils',\n",
       "       'Fires in humid tropical forests', 'On-farm energy use',\n",
       "       'Rural population', 'Urban population', 'Total Population - Male',\n",
       "       'Total Population - Female', 'total_emission', 'Average Temperature °C',\n",
       "       'Code', 'gdp'],\n",
       "      dtype='object')"
      ]
     },
     "execution_count": 7,
     "metadata": {},
     "output_type": "execute_result"
    }
   ],
   "source": [
    "agri_gdp_data = pd.read_csv('./agri_gdp_data.csv')\n",
    "agri_gdp_data = agri_gdp_data.drop(columns='Unnamed: 0')\n"
   ]
  },
  {
   "cell_type": "markdown",
   "metadata": {},
   "source": [
    "Train test split"
   ]
  },
  {
   "cell_type": "code",
   "execution_count": null,
   "metadata": {},
   "outputs": [],
   "source": []
  },
  {
   "cell_type": "markdown",
   "metadata": {},
   "source": [
    "pipeline"
   ]
  },
  {
   "cell_type": "markdown",
   "metadata": {},
   "source": [
    "regression"
   ]
  },
  {
   "cell_type": "markdown",
   "metadata": {},
   "source": [
    "evaluation & plots"
   ]
  }
 ],
 "metadata": {
  "kernelspec": {
   "display_name": "Python 3",
   "language": "python",
   "name": "python3"
  },
  "language_info": {
   "codemirror_mode": {
    "name": "ipython",
    "version": 3
   },
   "file_extension": ".py",
   "mimetype": "text/x-python",
   "name": "python",
   "nbconvert_exporter": "python",
   "pygments_lexer": "ipython3",
   "version": "3.10.6"
  }
 },
 "nbformat": 4,
 "nbformat_minor": 2
}
