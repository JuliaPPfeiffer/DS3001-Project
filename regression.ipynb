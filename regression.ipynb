{
 "cells": [
  {
   "cell_type": "code",
   "execution_count": 1,
   "metadata": {},
   "outputs": [
    {
     "name": "stderr",
     "output_type": "stream",
     "text": [
      "C:\\Users\\l3n3c\\AppData\\Local\\Temp\\ipykernel_28428\\4080736814.py:1: DeprecationWarning: \n",
      "Pyarrow will become a required dependency of pandas in the next major release of pandas (pandas 3.0),\n",
      "(to allow more performant data types, such as the Arrow string type, and better interoperability with other libraries)\n",
      "but was not found to be installed on your system.\n",
      "If this would cause problems for you,\n",
      "please provide us feedback at https://github.com/pandas-dev/pandas/issues/54466\n",
      "        \n",
      "  import pandas as pd\n"
     ]
    }
   ],
   "source": [
    "import pandas as pd"
   ]
  },
  {
   "cell_type": "code",
   "execution_count": null,
   "metadata": {},
   "outputs": [
    {
     "data": {
      "text/plain": [
       "Index(['Area', 'Year', 'Savanna fires', 'Forest fires', 'Crop Residues',\n",
       "       'Rice Cultivation', 'Drained organic soils (CO2)',\n",
       "       'Pesticides Manufacturing', 'Food Transport', 'Forestland',\n",
       "       'Net Forest conversion', 'Food Household Consumption', 'Food Retail',\n",
       "       'On-farm Electricity Use', 'Food Packaging',\n",
       "       'Agrifood Systems Waste Disposal', 'Food Processing',\n",
       "       'Fertilizers Manufacturing', 'IPPU', 'Manure applied to Soils',\n",
       "       'Manure left on Pasture', 'Manure Management', 'Fires in organic soils',\n",
       "       'Fires in humid tropical forests', 'On-farm energy use',\n",
       "       'Rural population', 'Urban population', 'Total Population - Male',\n",
       "       'Total Population - Female', 'total_emission', 'Average Temperature °C',\n",
       "       'Code', 'gdp'],\n",
       "      dtype='object')"
      ]
     },
     "execution_count": 7,
     "metadata": {},
     "output_type": "execute_result"
    }
   ],
   "source": [
    "agri_gdp_data = pd.read_csv('./agri_gdp_data.csv')\n",
    "agri_gdp_data = agri_gdp_data.drop(columns='Unnamed: 0')\n"
   ]
  },
  {
   "cell_type": "markdown",
   "metadata": {},
   "source": [
    "Train test split"
   ]
  },
  {
   "cell_type": "code",
   "execution_count": 8,
   "metadata": {},
   "outputs": [],
   "source": [
    "# imports\n",
    "from sklearn.model_selection import train_test_split\n",
    "from sklearn.impute import SimpleImputer\n",
    "from sklearn.preprocessing import StandardScaler\n",
    "from sklearn.pipeline import Pipeline\n",
    "from sklearn.preprocessing import OneHotEncoder\n",
    "from sklearn.compose import ColumnTransformer"
   ]
  },
  {
   "cell_type": "code",
   "execution_count": 12,
   "metadata": {},
   "outputs": [
    {
     "data": {
      "text/plain": [
       "Index(['Area', 'Year', 'Savanna fires', 'Forest fires', 'Crop Residues',\n",
       "       'Rice Cultivation', 'Drained organic soils (CO2)',\n",
       "       'Pesticides Manufacturing', 'Food Transport', 'Forestland',\n",
       "       'Net Forest conversion', 'Food Household Consumption', 'Food Retail',\n",
       "       'On-farm Electricity Use', 'Food Packaging',\n",
       "       'Agrifood Systems Waste Disposal', 'Food Processing',\n",
       "       'Fertilizers Manufacturing', 'IPPU', 'Manure applied to Soils',\n",
       "       'Manure left on Pasture', 'Manure Management', 'Fires in organic soils',\n",
       "       'Fires in humid tropical forests', 'On-farm energy use',\n",
       "       'Rural population', 'Urban population', 'Total Population - Male',\n",
       "       'Total Population - Female', 'total_emission', 'Average Temperature °C',\n",
       "       'Code', 'gdp'],\n",
       "      dtype='object')"
      ]
     },
     "execution_count": 12,
     "metadata": {},
     "output_type": "execute_result"
    }
   ],
   "source": [
    "agri_gdp_data.columns"
   ]
  },
  {
   "cell_type": "code",
   "execution_count": 13,
   "metadata": {},
   "outputs": [],
   "source": [
    "agri_gdp_tr = agri_gdp_data.copy()\n",
    "agri_gdp_tr.head()\n",
    "agri_gdp_data = agri_gdp_tr.drop(\"total_emission\", axis=1)\n",
    "agri_gdp_labels = agri_gdp_tr[\"total_emission\"].copy()\n",
    "\n",
    "X_train, X_test, y_train, y_test = train_test_split(agri_gdp_data, agri_gdp_labels, test_size=0.2)"
   ]
  },
  {
   "cell_type": "markdown",
   "metadata": {},
   "source": [
    "pipeline"
   ]
  },
  {
   "cell_type": "code",
   "execution_count": 15,
   "metadata": {},
   "outputs": [],
   "source": [
    "imputer = SimpleImputer(strategy=\"most_frequent\")\n",
    "std_scaler = StandardScaler()\n",
    "\n",
    "num_pipeline = Pipeline([\n",
    "    (\"imputer\", imputer),\n",
    "    (\"std_scaler\", std_scaler)\n",
    "])\n",
    "num_col = agri_gdp_data.select_dtypes(['number']).columns\n",
    "\n",
    "# converting categorical data\n",
    "cat_encoder = OneHotEncoder(handle_unknown=\"ignore\")\n",
    "cat_col = agri_gdp_data.select_dtypes(['object']).columns\n",
    "\n",
    "# full pipeline\n",
    "full_pipeline = ColumnTransformer([\n",
    "    (\"num\", num_pipeline, num_col),\n",
    "    (\"cat\", cat_encoder, cat_col)\n",
    "])"
   ]
  },
  {
   "cell_type": "code",
   "execution_count": 16,
   "metadata": {},
   "outputs": [],
   "source": [
    "training_prepared = full_pipeline.fit_transform(X_train)\n",
    "test_prepared = full_pipeline.fit(X_test)"
   ]
  },
  {
   "cell_type": "markdown",
   "metadata": {},
   "source": [
    "regression"
   ]
  },
  {
   "cell_type": "markdown",
   "metadata": {},
   "source": [
    "evaluation & plots"
   ]
  }
 ],
 "metadata": {
  "kernelspec": {
   "display_name": "Python 3",
   "language": "python",
   "name": "python3"
  },
  "language_info": {
   "codemirror_mode": {
    "name": "ipython",
    "version": 3
   },
   "file_extension": ".py",
   "mimetype": "text/x-python",
   "name": "python",
   "nbconvert_exporter": "python",
   "pygments_lexer": "ipython3",
   "version": "3.10.6"
  }
 },
 "nbformat": 4,
 "nbformat_minor": 2
}
